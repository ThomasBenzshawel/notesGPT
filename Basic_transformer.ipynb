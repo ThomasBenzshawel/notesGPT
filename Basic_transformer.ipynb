{
 "cells": [
  {
   "cell_type": "code",
   "execution_count": 1,
   "id": "initial_id",
   "metadata": {
    "ExecuteTime": {
     "end_time": "2023-10-01T01:31:55.310272900Z",
     "start_time": "2023-10-01T01:31:51.732825600Z"
    }
   },
   "outputs": [],
   "source": [
    "import torch\n",
    "import torch.nn as nn\n",
    "from torch.nn import functional as F\n",
    "import tiktoken"
   ]
  },
  {
   "cell_type": "code",
   "execution_count": 2,
   "id": "a8dbab4e",
   "metadata": {},
   "outputs": [
    {
     "name": "stdout",
     "output_type": "stream",
     "text": [
      "nvcc: NVIDIA (R) Cuda compiler driver\r\n",
      "Copyright (c) 2005-2023 NVIDIA Corporation\r\n",
      "Built on Mon_Apr__3_17:16:06_PDT_2023\r\n",
      "Cuda compilation tools, release 12.1, V12.1.105\r\n",
      "Build cuda_12.1.r12.1/compiler.32688072_0\r\n"
     ]
    }
   ],
   "source": [
    "!nvcc --version "
   ]
  },
  {
   "cell_type": "code",
   "execution_count": 3,
   "id": "ed61f8fd",
   "metadata": {},
   "outputs": [
    {
     "data": {
      "text/plain": [
       "'2.0.1+cu117'"
      ]
     },
     "execution_count": 3,
     "metadata": {},
     "output_type": "execute_result"
    }
   ],
   "source": [
    "torch.__version__"
   ]
  },
  {
   "cell_type": "code",
   "execution_count": 4,
   "id": "c2f26c4e",
   "metadata": {},
   "outputs": [
    {
     "data": {
      "text/plain": [
       "True"
      ]
     },
     "execution_count": 4,
     "metadata": {},
     "output_type": "execute_result"
    }
   ],
   "source": [
    "torch.cuda.is_available()"
   ]
  },
  {
   "cell_type": "code",
   "execution_count": null,
   "id": "b4275e6b",
   "metadata": {},
   "outputs": [],
   "source": [
    "!nvidia-smi"
   ]
  },
  {
   "cell_type": "code",
   "execution_count": 6,
   "id": "f9543047d3922b2",
   "metadata": {
    "ExecuteTime": {
     "end_time": "2023-10-01T01:31:55.319770800Z",
     "start_time": "2023-10-01T01:31:55.312200200Z"
    }
   },
   "outputs": [],
   "source": [
    "max_iters = 5000\n",
    "eval_interval = 500\n",
    "learning_rate = 3e-4\n",
    "device = 'cuda' if torch.cuda.is_available() else 'cpu'\n",
    "eval_iters = 200\n",
    "block_size = 256\n",
    "batch_size = 64\n",
    "n_head = 6\n",
    "n_layer = 6\n",
    "n_embd = 384\n",
    "dropout = 0.2"
   ]
  },
  {
   "cell_type": "code",
   "execution_count": 7,
   "id": "0185157e",
   "metadata": {},
   "outputs": [
    {
     "name": "stdout",
     "output_type": "stream",
     "text": [
      "15693381632\n"
     ]
    }
   ],
   "source": [
    "if torch.cuda.is_available():\n",
    "    print(torch.cuda.get_device_properties(0).total_memory)\n",
    "    torch.cuda.empty_cache()"
   ]
  },
  {
   "cell_type": "markdown",
   "id": "994f0181562abe93",
   "metadata": {},
   "source": [
    "This follows a tutorial for \"tiny shakespear\" by Andrej Karpathy and is not my own work"
   ]
  },
  {
   "cell_type": "code",
   "execution_count": 8,
   "id": "b17ceb092b102c52",
   "metadata": {
    "ExecuteTime": {
     "end_time": "2023-10-01T01:31:55.328602700Z",
     "start_time": "2023-10-01T01:31:55.315715100Z"
    }
   },
   "outputs": [],
   "source": [
    "with open('input.txt', 'r', encoding='utf-8') as f:\n",
    "    text = f.read()"
   ]
  },
  {
   "cell_type": "code",
   "execution_count": 9,
   "id": "bfec514159343c54",
   "metadata": {
    "ExecuteTime": {
     "end_time": "2023-10-01T01:31:55.336992200Z",
     "start_time": "2023-10-01T01:31:55.329610400Z"
    }
   },
   "outputs": [
    {
     "name": "stdout",
     "output_type": "stream",
     "text": [
      "1115394\n"
     ]
    }
   ],
   "source": [
    "print(len(text))"
   ]
  },
  {
   "cell_type": "code",
   "execution_count": 10,
   "id": "2e2dbc2c717a71f8",
   "metadata": {
    "ExecuteTime": {
     "end_time": "2023-10-01T01:31:55.382446200Z",
     "start_time": "2023-10-01T01:31:55.337992100Z"
    },
    "scrolled": true
   },
   "outputs": [
    {
     "name": "stdout",
     "output_type": "stream",
     "text": [
      "First Citizen:\n",
      "Before we proceed any further, hear me speak.\n",
      "\n",
      "All:\n",
      "Speak, speak.\n",
      "\n",
      "First Citizen:\n",
      "You\n"
     ]
    }
   ],
   "source": [
    "print(text[:100])"
   ]
  },
  {
   "cell_type": "code",
   "execution_count": 11,
   "id": "90ae867c2f66493d",
   "metadata": {
    "ExecuteTime": {
     "end_time": "2023-10-01T01:31:55.384446Z",
     "start_time": "2023-10-01T01:31:55.344340900Z"
    }
   },
   "outputs": [
    {
     "name": "stdout",
     "output_type": "stream",
     "text": [
      "['\\n', ' ', '!', '$', '&', \"'\", ',', '-', '.', '3', ':', ';', '?', 'A', 'B', 'C', 'D', 'E', 'F', 'G', 'H', 'I', 'J', 'K', 'L', 'M', 'N', 'O', 'P', 'Q', 'R', 'S', 'T', 'U', 'V', 'W', 'X', 'Y', 'Z', 'a', 'b', 'c', 'd', 'e', 'f', 'g', 'h', 'i', 'j', 'k', 'l', 'm', 'n', 'o', 'p', 'q', 'r', 's', 't', 'u', 'v', 'w', 'x', 'y', 'z'] 65\n"
     ]
    }
   ],
   "source": [
    "chars = sorted(set(text))\n",
    "vocab_size = len(chars)\n",
    "print(chars, vocab_size)"
   ]
  },
  {
   "cell_type": "markdown",
   "id": "282bba4f8c34cd44",
   "metadata": {},
   "source": [
    "Making an \"encoder\" and decoder to turn chars to ints and then ints to chars"
   ]
  },
  {
   "cell_type": "code",
   "execution_count": 12,
   "id": "6b3cfc9973799885",
   "metadata": {
    "ExecuteTime": {
     "end_time": "2023-10-01T01:31:55.384446Z",
     "start_time": "2023-10-01T01:31:55.361441100Z"
    }
   },
   "outputs": [],
   "source": [
    "# s_to_i = { ch:i for i,ch in enumerate(chars)}\n",
    "# i_to_s = { i:ch for i, ch in enumerate(chars)}\n",
    "\n",
    "# encode = lambda s: [s_to_i[c] for c in s]\n",
    "# decode = lambda l: ''.join([i_to_s[i] for i in l])\n",
    "\n",
    "# secret = encode(\"hello my name is tinyshake!\")\n",
    "# print(secret)"
   ]
  },
  {
   "cell_type": "code",
   "execution_count": 13,
   "id": "fcf4d52e",
   "metadata": {},
   "outputs": [
    {
     "name": "stdout",
     "output_type": "stream",
     "text": [
      "[31373, 616, 1438, 318, 7009, 12, 1477, 20621, 283, 0]\n"
     ]
    }
   ],
   "source": [
    "enc = tiktoken.get_encoding(\"p50k_base\")\n",
    "vocab_size = enc.n_vocab\n",
    "\n",
    "encode = lambda s: enc.encode(s)\n",
    "decode = lambda l: enc.decode(l)\n",
    "\n",
    "secret = encode(\"hello my name is tiny-shakespear!\")\n",
    "print(secret)"
   ]
  },
  {
   "cell_type": "code",
   "execution_count": 14,
   "id": "a7ec029f70c7eb1f",
   "metadata": {
    "ExecuteTime": {
     "end_time": "2023-10-01T01:31:55.385446Z",
     "start_time": "2023-10-01T01:31:55.369262500Z"
    }
   },
   "outputs": [
    {
     "name": "stdout",
     "output_type": "stream",
     "text": [
      "hello my name is tiny-shakespear!\n"
     ]
    }
   ],
   "source": [
    "print(decode(secret))"
   ]
  },
  {
   "cell_type": "code",
   "execution_count": 15,
   "id": "1f5f0279c22e5f11",
   "metadata": {
    "ExecuteTime": {
     "end_time": "2023-10-01T01:31:55.508405Z",
     "start_time": "2023-10-01T01:31:55.375547500Z"
    }
   },
   "outputs": [
    {
     "name": "stdout",
     "output_type": "stream",
     "text": [
      "torch.Size([338022]) torch.int64\n",
      "tensor([ 5962, 22307,    25,   198,  8421,   356,  5120,   597,  2252,    11,\n",
      "         3285,   502,  2740,    13,   198,   198,  3237,    25,   198,  5248,\n",
      "          461,    11,  2740,    13,   198,   198,  5962, 22307,    25,   198,\n",
      "         1639,   389,   477, 12939,  2138,   284,  4656,   621,   284,  1145,\n",
      "          680,    30,   198,   198,  3237,    25,   198,  4965,  5634,    13,\n",
      "        12939,    13,   198,   198,  5962, 22307,    25,   198,  5962,    11,\n",
      "          345,   760,   327,  1872,   385,  1526, 28599,   318,  4039,  4472,\n",
      "          284,   262,   661,    13,   198,   198,  3237,    25,   198,  1135,\n",
      "          760,   470,    11,   356,   760,   470,    13,   198,   198,  5962,\n",
      "        22307,    25,   198,  5756,   514,  1494,   683,    11,   290,   356])\n"
     ]
    }
   ],
   "source": [
    "data = torch.tensor(encode(text), dtype=torch.long)\n",
    "print(data.shape, data.dtype)\n",
    "print(data[:100])"
   ]
  },
  {
   "cell_type": "code",
   "execution_count": 16,
   "id": "5de672b722cb59fa",
   "metadata": {
    "ExecuteTime": {
     "end_time": "2023-10-01T01:31:55.516694300Z",
     "start_time": "2023-10-01T01:31:55.509412300Z"
    }
   },
   "outputs": [],
   "source": [
    "#train and validation split\n",
    "n = int(0.9*len(data))\n",
    "train_data = data[:n]\n",
    "val_data = data[:n]"
   ]
  },
  {
   "cell_type": "code",
   "execution_count": 17,
   "id": "d5946d8db23aa8ef",
   "metadata": {
    "ExecuteTime": {
     "end_time": "2023-10-01T01:31:55.526013900Z",
     "start_time": "2023-10-01T01:31:55.512697Z"
    }
   },
   "outputs": [
    {
     "data": {
      "text/plain": [
       "tensor([ 5962, 22307,    25,   198,  8421,   356,  5120,   597,  2252,    11,\n",
       "         3285,   502,  2740,    13,   198,   198,  3237,    25,   198,  5248,\n",
       "          461,    11,  2740,    13,   198,   198,  5962, 22307,    25,   198,\n",
       "         1639,   389,   477, 12939,  2138,   284,  4656,   621,   284,  1145,\n",
       "          680,    30,   198,   198,  3237,    25,   198,  4965,  5634,    13,\n",
       "        12939,    13,   198,   198,  5962, 22307,    25,   198,  5962,    11,\n",
       "          345,   760,   327,  1872,   385,  1526, 28599,   318,  4039,  4472,\n",
       "          284,   262,   661,    13,   198,   198,  3237,    25,   198,  1135,\n",
       "          760,   470,    11,   356,   760,   470,    13,   198,   198,  5962,\n",
       "        22307,    25,   198,  5756,   514,  1494,   683,    11,   290,   356,\n",
       "         1183,   423, 11676,   379,   674,   898,  2756,    13,   198,  3792,\n",
       "          470,   257, 15593,    30,   198,   198,  3237,    25,   198,  2949,\n",
       "          517,  3375,   319,   470,    26,  1309,   340,   307,  1760,    25,\n",
       "         1497,    11,  1497,     0,   198,   198, 12211, 22307,    25,   198,\n",
       "         3198,  1573,    11,   922,  4290,    13,   198,   198,  5962, 22307,\n",
       "           25,   198,  1135,   389, 17830,  3595,  4290,    11,   262,  1458,\n",
       "         1173,  1547,   922,    13,   198,  2061,  4934,   969,  5036,   896,\n",
       "          319,   561, 26958,   514,    25,   611,   484,   198, 19188,  7800,\n",
       "          514,   475,   262, 48713,   414,    11,   981,   340,   547,   198,\n",
       "         1929,  4316,   462,    11,   356,  1244,  4724,   484, 22598,   514,\n",
       "        31533,   306,    26,   198,  4360,   484,   892,   356,   389,  1165,\n",
       "        13674,    25,   262, 10904,  1108,   326,   198,  2001, 42267,   514,\n",
       "           11,   262,  2134,   286,   674, 24672,    11,   318,   355,   281,\n",
       "          198, 24807,   284,  1948,   786,   511, 20038,    26,   674,   198,\n",
       "           82, 13712,   590,   318,   257,  4461,   284,   606,  3914,   514,\n",
       "        15827,   428,   351,   198,   454,   279,  7938])"
      ]
     },
     "execution_count": 17,
     "metadata": {},
     "output_type": "execute_result"
    }
   ],
   "source": [
    "train_data[:block_size +1]"
   ]
  },
  {
   "cell_type": "markdown",
   "id": "66644df4",
   "metadata": {},
   "source": [
    "# Testing!"
   ]
  },
  {
   "cell_type": "code",
   "execution_count": 18,
   "id": "c72f16e148f573e3",
   "metadata": {
    "ExecuteTime": {
     "end_time": "2023-10-01T01:31:55.561036400Z",
     "start_time": "2023-10-01T01:31:55.525013600Z"
    }
   },
   "outputs": [],
   "source": [
    "# x = train_data[:block_size]\n",
    "# y = train_data[1:block_size+1]\n",
    "# for t in range(block_size):\n",
    "#     context = x[:t+1]\n",
    "#     target = y[t]\n",
    "    \n",
    "#     print(\"when we input\", context, \"we want to get\", target)"
   ]
  },
  {
   "cell_type": "code",
   "execution_count": 19,
   "id": "fcd9fb7b0920ed6e",
   "metadata": {
    "ExecuteTime": {
     "end_time": "2023-10-01T01:31:55.562043600Z",
     "start_time": "2023-10-01T01:31:55.532584400Z"
    }
   },
   "outputs": [],
   "source": [
    "def get_batch(split):\n",
    "    data = train_data if split == 'train' else val_data\n",
    "    \n",
    "    ix = torch.randint(len(data) - block_size, (batch_size,))\n",
    "    x = torch.stack([data[i:i+block_size] for i in ix])\n",
    "    y = torch.stack([data[i + 1:i+block_size+1] for i in ix])\n",
    "    x,y = x.to(device), y.to(device)\n",
    "    return x, y"
   ]
  },
  {
   "cell_type": "code",
   "execution_count": 20,
   "id": "5d3577a1",
   "metadata": {},
   "outputs": [],
   "source": [
    "# for split in ['train', 'val']:\n",
    "#     get_batch(split)"
   ]
  },
  {
   "cell_type": "markdown",
   "id": "f87583ca",
   "metadata": {},
   "source": [
    "# Making the Model"
   ]
  },
  {
   "cell_type": "code",
   "execution_count": 21,
   "id": "e0c70ad917b4da9a",
   "metadata": {
    "ExecuteTime": {
     "end_time": "2023-10-01T01:31:55.665729900Z",
     "start_time": "2023-10-01T01:31:55.555169Z"
    }
   },
   "outputs": [],
   "source": [
    "if torch.cuda.is_available():\n",
    "    torch.cuda.init()\n",
    "    \n",
    "class Head(nn.Module):\n",
    "\n",
    "    def __init__(self, head_size):\n",
    "        super().__init__()\n",
    "        self.key = nn.Linear(n_embd, head_size, bias=False)\n",
    "        self.query = nn.Linear(n_embd, head_size, bias=False)\n",
    "        self.value = nn.Linear(n_embd, head_size, bias=False)\n",
    "        self.register_buffer('tril', torch.tril(torch.ones(block_size, block_size)))\n",
    "        \n",
    "        self.droput = nn.Dropout(dropout)\n",
    "\n",
    "    def forward(self, x):\n",
    "\n",
    "        B,T, C = x.shape\n",
    "        #Single head self attention\n",
    "        k = self.key(x)\n",
    "        q = self.query(x)\n",
    "\n",
    "        wei = q @ k.transpose(-2, -1) * C**-0.5\n",
    "        wei = wei.masked_fill(self.tril[:T, :T] == 0, float('-inf')) # this is a decoder, this means that if you remove this, it becomes an encoder, aka, it can talk to nodes in the future\n",
    "        wei = F.softmax(wei, dim=-1)\n",
    "        wei = self.droput(wei)\n",
    "        v = self.value(x)\n",
    "        out = wei @ v\n",
    "\n",
    "        return out\n",
    "\n",
    "class MultiHeadAttention(nn.Module):\n",
    "    def __init__(self, num_heads, head_size):\n",
    "        super().__init__()\n",
    "        self.heads = nn.ModuleList([Head(head_size) for _ in range(num_heads)])\n",
    "        self.proj = nn.Linear(num_heads * head_size, n_embd)\n",
    "        self.dropout = nn.Dropout(dropout)\n",
    "        \n",
    "    def forward(self, x):\n",
    "        out = torch.cat([h(x) for h in self.heads], dim=-1)\n",
    "        out = self.dropout(self.proj(out))\n",
    "        return out\n",
    "    \n",
    "    \n",
    "class FeedForward(nn.Module):\n",
    "    def __init__(self, n_embd):\n",
    "        super().__init__()\n",
    "        self.net = nn.Sequential(\n",
    "            nn.Linear(n_embd, 4 * n_embd),\n",
    "            nn.ReLU(),\n",
    "            nn.Linear(4 * n_embd, n_embd),\n",
    "            nn.Dropout(dropout),\n",
    "        )\n",
    "    \n",
    "    def forward(self, x):\n",
    "        return self.net(x)\n",
    "    \n",
    "    \n",
    "class Block(nn.Module):\n",
    "    \n",
    "    def __init__(self, n_embd, n_head):\n",
    "        super().__init__()\n",
    "        head_size = n_embd // n_head\n",
    "        self.sa = MultiHeadAttention(n_head, head_size)\n",
    "        self.fwd = FeedForward(n_embd)\n",
    "        self.ln1 = nn.LayerNorm(n_embd)\n",
    "        self.ln2 = nn.LayerNorm(n_embd)\n",
    "\n",
    "\n",
    "    def forward(self, x):\n",
    "        x = x + self.sa(self.ln1(x))\n",
    "        x = x + self.fwd(self.ln2(x))\n",
    "        return x\n",
    "\n",
    "class BigramLanguageModel(nn.Module):\n",
    "    \n",
    "    def __init__(self):\n",
    "        super().__init__()\n",
    "        self.token_embeding_table = nn.Embedding(vocab_size, n_embd)\n",
    "        self.position_embedding_table = nn.Embedding(block_size, n_embd)\n",
    "        self.blocks = nn.Sequential(*[Block(n_embd, n_head) for _ in range(n_layer)])\n",
    "        self.ln_f = nn.LayerNorm(n_embd)\n",
    "        self.lm_head = nn.Linear(n_embd, vocab_size)\n",
    "        \n",
    "    def forward(self, idx, targets=None):\n",
    "        B, T = idx.shape\n",
    "        token_emb = self.token_embeding_table(idx)\n",
    "        pos_emb = self.position_embedding_table(torch.arange(T, device=device))\n",
    "        x = token_emb + pos_emb\n",
    "        x = self.blocks(x)\n",
    "        logits = self.lm_head(x)\n",
    "        \n",
    "        if targets is None:\n",
    "            loss = None\n",
    "        else:\n",
    "    \n",
    "            B, T, C = logits.shape\n",
    "            logits = logits.view(B*T, C)\n",
    "            targets = targets.view(B*T)\n",
    "            loss = F.cross_entropy(logits, targets)\n",
    "            \n",
    "        \n",
    "        return logits, loss\n",
    "    \n",
    "    \n",
    "    def generate(self, idx, max_new_tokens):\n",
    "        for _ in range(max_new_tokens):\n",
    "            idx_cond = idx[:, -block_size:]\n",
    "            \n",
    "            logits, loss = self(idx_cond)\n",
    "            \n",
    "            logits = logits[:, -1, :]\n",
    "            \n",
    "            probs = F.softmax(logits, dim=1)\n",
    "            \n",
    "            idx_next = torch.multinomial(probs, num_samples=1)\n",
    "            \n",
    "            idx = torch.cat((idx, idx_next), dim=1)\n",
    "        return idx"
   ]
  },
  {
   "cell_type": "markdown",
   "id": "0aa184f2",
   "metadata": {},
   "source": [
    "# Load a previous model (Optional)"
   ]
  },
  {
   "cell_type": "code",
   "execution_count": 22,
   "id": "1504cea7",
   "metadata": {},
   "outputs": [],
   "source": [
    "# model = torch.load(\"temp\")\n",
    "# model.eval()"
   ]
  },
  {
   "cell_type": "code",
   "execution_count": 23,
   "id": "1adf6b45",
   "metadata": {},
   "outputs": [],
   "source": [
    "# torch.distributed.init_process_group(backend='nccl', init_method='env://')\n",
    "\n",
    "model = BigramLanguageModel()\n",
    "model = model.to(device)\n",
    "\n",
    "# model = DistributedDataParallel(model, device_ids=[0, 1])\n",
    "\n",
    "m = nn.DataParallel(model)"
   ]
  },
  {
   "cell_type": "code",
   "execution_count": 24,
   "id": "355ebae2",
   "metadata": {},
   "outputs": [],
   "source": [
    "@torch.no_grad()\n",
    "def estimate_loss():\n",
    "    out = {}\n",
    "    m.eval()\n",
    "    \n",
    "    for split in ['train', 'val']:\n",
    "        losses = torch.zeros(eval_iters)\n",
    "        for k in range(eval_iters):\n",
    "            X, Y = get_batch(split)\n",
    "            logits, loss = m(X, Y) # <- Problem\n",
    "            \n",
    "            #average the loss\n",
    "            if torch.cuda.device_count() > 1:\n",
    "                temp_loss = torch.zeros(torch.cuda.device_count())\n",
    "                for i in range(torch.cuda.device_count()):\n",
    "                    temp_loss[i] = loss[i].item()\n",
    "                    \n",
    "                losses[k] = temp_loss.mean()\n",
    "            else:\n",
    "                losses[k] = loss.item()\n",
    "        out[split] = losses.mean()\n",
    "    m.train()\n",
    "    return out"
   ]
  },
  {
   "cell_type": "markdown",
   "id": "ffeccbbe978a8189",
   "metadata": {},
   "source": [
    "## Train the model!"
   ]
  },
  {
   "cell_type": "code",
   "execution_count": 25,
   "id": "56d1ab7f29a8cb11",
   "metadata": {
    "ExecuteTime": {
     "end_time": "2023-10-01T01:31:55.673907500Z",
     "start_time": "2023-10-01T01:31:55.666730100Z"
    }
   },
   "outputs": [],
   "source": [
    "optimizer = torch.optim.Adam(m.parameters(), lr=learning_rate)"
   ]
  },
  {
   "cell_type": "code",
   "execution_count": null,
   "id": "4f3dbd8a7e66f9a1",
   "metadata": {
    "ExecuteTime": {
     "end_time": "2023-10-01T01:33:09.741555700Z",
     "start_time": "2023-10-01T01:31:55.672906900Z"
    }
   },
   "outputs": [
    {
     "name": "stderr",
     "output_type": "stream",
     "text": [
      "/home/benzshawelt/.local/lib/python3.10/site-packages/torch/nn/parallel/_functions.py:68: UserWarning: Was asked to gather along dimension 0, but all input tensors were scalars; will instead unsqueeze and return a vector.\n",
      "  warnings.warn('Was asked to gather along dimension 0, but all '\n"
     ]
    },
    {
     "name": "stdout",
     "output_type": "stream",
     "text": [
      "step 0: train loss 11.2992, val loss 11.2990\n"
     ]
    }
   ],
   "source": [
    "if torch.cuda.is_available():\n",
    "    torch.cuda.init()\n",
    "    \n",
    "    \n",
    "# sampler = DistributedSampler(dataset) if is_distributed else None\n",
    "# loader = DataLoader(dataset, shuffle=(sampler is None),\n",
    "#                     sampler=sampler)\n",
    "# for epoch in range(start_epoch, n_epochs):\n",
    "#     if is_distributed:\n",
    "#         sampler.set_epoch(epoch)\n",
    "#     train(loader)\n",
    "\n",
    "    \n",
    "for iter in range(max_iters):\n",
    "    \n",
    "    if iter % eval_interval == 0:\n",
    "        losses = estimate_loss()\n",
    "        print(f\"step {iter}: train loss {losses['train']:.4f}, val loss {losses['val']:.4f}\")\n",
    "    \n",
    "    xb, yb = get_batch('train')\n",
    "    \n",
    "    xb = xb.to(device)\n",
    "    yb = yb.to(device)\n",
    "    \n",
    "    logits, loss = m(xb, yb)\n",
    "    loss = loss.mean()\n",
    "    optimizer.zero_grad(set_to_none=True)\n",
    "    loss.backward()\n",
    "    optimizer.step()\n",
    "    \n",
    "print(loss.item())"
   ]
  },
  {
   "cell_type": "code",
   "execution_count": null,
   "id": "2b500b68",
   "metadata": {},
   "outputs": [],
   "source": [
    "#     xb, yb = get_batch('train')\n",
    "    \n",
    "#     logits, loss = m(xb, yb)\n",
    "#     optimizer.zero_grad(set_to_none=True)\n",
    "#     loss.backward()\n",
    "#     optimizer.step()"
   ]
  },
  {
   "cell_type": "code",
   "execution_count": null,
   "id": "2557ed0ba591100b",
   "metadata": {
    "ExecuteTime": {
     "end_time": "2023-10-01T01:33:10.192109100Z",
     "start_time": "2023-10-01T01:33:09.736558700Z"
    }
   },
   "outputs": [],
   "source": [
    "m = m.module\n",
    "m.to('cuda:0')\n",
    "\n",
    "context = torch.zeros((1, 1), dtype=torch.long, device=device)\n",
    "print(decode(m.generate(context, max_new_tokens=500)[0].tolist()))"
   ]
  },
  {
   "cell_type": "code",
   "execution_count": null,
   "id": "a54b7797",
   "metadata": {},
   "outputs": [],
   "source": [
    "torch.save(m, \"temp\")"
   ]
  },
  {
   "cell_type": "code",
   "execution_count": null,
   "id": "a58ea798",
   "metadata": {},
   "outputs": [],
   "source": [
    "del m\n",
    "del model"
   ]
  },
  {
   "cell_type": "markdown",
   "id": "ee99f939",
   "metadata": {},
   "source": [
    "# Practice Below this point"
   ]
  },
  {
   "cell_type": "code",
   "execution_count": null,
   "id": "880f170f991224a1",
   "metadata": {
    "ExecuteTime": {
     "end_time": "2023-10-01T01:33:10.192109100Z",
     "start_time": "2023-10-01T01:33:10.185427900Z"
    }
   },
   "outputs": [],
   "source": [
    "# torch.manual_seed(1337)\n",
    "B, T, C = 4, 8, 2\n",
    "x = torch.randn(B,T,C)\n",
    "x.shape"
   ]
  },
  {
   "cell_type": "code",
   "execution_count": null,
   "id": "d951c899850421a5",
   "metadata": {
    "ExecuteTime": {
     "end_time": "2023-10-01T01:33:10.202321900Z",
     "start_time": "2023-10-01T01:33:10.193105800Z"
    }
   },
   "outputs": [],
   "source": [
    "xbow = torch.zeros((B,T,C))\n",
    "for b in range(B):\n",
    "    for t in range(T):\n",
    "        xprev = x[b, :t+1]\n",
    "        xbow[b,t] = torch.mean(xprev, 0)"
   ]
  },
  {
   "cell_type": "code",
   "execution_count": null,
   "id": "c8fe51b98678837b",
   "metadata": {
    "ExecuteTime": {
     "end_time": "2023-10-01T01:33:10.251715900Z",
     "start_time": "2023-10-01T01:33:10.201321700Z"
    }
   },
   "outputs": [],
   "source": [
    "wei = torch.tril(torch.ones(T, T))\n",
    "wei = wei / wei.sum(1, keepdim=True)\n",
    "xbow2 = wei @ x"
   ]
  },
  {
   "cell_type": "markdown",
   "id": "52db61b7856fe6dc",
   "metadata": {},
   "source": [
    "# Self-attention (making our heads)"
   ]
  },
  {
   "cell_type": "code",
   "execution_count": null,
   "id": "c5e0e44a814de781",
   "metadata": {
    "ExecuteTime": {
     "end_time": "2023-10-01T01:33:10.269716200Z",
     "start_time": "2023-10-01T01:33:10.208569800Z"
    }
   },
   "outputs": [],
   "source": [
    "B,T, C = 4, 8, 32\n",
    "x = torch.randn(B, T, C)\n",
    "\n",
    "#Single head self attention\n",
    "head_size = 16\n",
    "key = nn.Linear(C, head_size, bias=False)\n",
    "query = nn.Linear(C, head_size, bias=False)\n",
    "value = nn.Linear(C, head_size, bias=False)\n",
    "k = key(x)\n",
    "q = query(x)\n",
    "wei = q @ k.transpose(-2, -1)\n",
    "\n",
    "tril = torch.tril(torch.ones(T, T))\n",
    "wei = wei.masked_fill(tril == 0, float('-inf')) # this is a decoder, this means that if you remove this, it becomes an encoder, aka, it can talk to nodes in the future\n",
    "wei = F.softmax(wei, dim=-1)\n",
    "\n",
    "v = value(x)   \n",
    "out = wei @ v\n",
    "\n",
    "out.shape"
   ]
  }
 ],
 "metadata": {
  "kernelspec": {
   "display_name": "Python 3 (ipykernel)",
   "language": "python",
   "name": "python3"
  },
  "language_info": {
   "codemirror_mode": {
    "name": "ipython",
    "version": 3
   },
   "file_extension": ".py",
   "mimetype": "text/x-python",
   "name": "python",
   "nbconvert_exporter": "python",
   "pygments_lexer": "ipython3",
   "version": "3.10.6"
  }
 },
 "nbformat": 4,
 "nbformat_minor": 5
}
